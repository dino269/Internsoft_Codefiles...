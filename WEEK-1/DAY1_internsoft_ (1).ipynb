{
  "nbformat": 4,
  "nbformat_minor": 0,
  "metadata": {
    "colab": {
      "provenance": []
    },
    "kernelspec": {
      "name": "python3",
      "display_name": "Python 3"
    },
    "language_info": {
      "name": "python"
    }
  },
  "cells": [
    {
      "cell_type": "markdown",
      "source": [
        "BASIC_TO_ADVANCE....INTERNSOFT......\n",
        "DAY 1--PYTHON NOTEBOOK 1\n"
      ],
      "metadata": {
        "id": "DjUIFSzRw6xN"
      }
    },
    {
      "cell_type": "markdown",
      "source": [
        "TYPE():  USING type() FUNC. TO FIND THE  DATATYPES IN PYTHON..."
      ],
      "metadata": {
        "id": "L9PHfF5XkaFQ"
      }
    },
    {
      "cell_type": "code",
      "source": [
        "# integers\n",
        "#skjcnskjfnk\n",
        "print(\"12345678910111213\")\n",
        "print(12345678910111213)\n",
        "# integers\n",
        "#skjcnskjfnk\n",
        "q=1234567\n",
        "print(type(q))"
      ],
      "metadata": {
        "colab": {
          "base_uri": "https://localhost:8080/"
        },
        "id": "LYBqECEow1pJ",
        "outputId": "3039d045-40c5-4cad-f058-00a0cca4dc3b"
      },
      "execution_count": null,
      "outputs": [
        {
          "output_type": "stream",
          "name": "stdout",
          "text": [
            "12345678910111213\n",
            "12345678910111213\n",
            "<class 'int'>\n"
          ]
        }
      ]
    },
    {
      "cell_type": "code",
      "source": [
        "# float\n",
        "a=90.00\n",
        "print(\"float:\",a)\n",
        "#########################\n",
        "# float\n",
        "a=90.00\n",
        "b=type(a)\n",
        "print(\"float:\",a)\n",
        "print(b)"
      ],
      "metadata": {
        "colab": {
          "base_uri": "https://localhost:8080/"
        },
        "id": "xf4EoEp4YQi5",
        "outputId": "f23c9b57-6163-4f18-93bb-18c970e85e2f"
      },
      "execution_count": null,
      "outputs": [
        {
          "output_type": "stream",
          "name": "stdout",
          "text": [
            "float: 90.0\n",
            "float: 90.0\n",
            "<class 'float'>\n"
          ]
        }
      ]
    },
    {
      "cell_type": "code",
      "source": [
        "#boolean\n",
        "a=True #true shd always start with capital 'T'.\n",
        "b=False\n",
        "print(type(a))\n",
        "print(type(b))"
      ],
      "metadata": {
        "colab": {
          "base_uri": "https://localhost:8080/"
        },
        "id": "Ixt_UbVZY1mZ",
        "outputId": "893cc72b-0bc8-4879-cfdf-ddab453a9ad9"
      },
      "execution_count": null,
      "outputs": [
        {
          "output_type": "stream",
          "name": "stdout",
          "text": [
            "<class 'bool'>\n",
            "<class 'bool'>\n"
          ]
        }
      ]
    },
    {
      "cell_type": "markdown",
      "source": [
        "STRINGS: diff. ways of printing output to user..."
      ],
      "metadata": {
        "id": "B1pukWjckyYn"
      }
    },
    {
      "cell_type": "code",
      "source": [
        "#string\n",
        "a='deric is eating'\n",
        "b=\"eric is eating\"\n",
        "c=\"\"\"hello\"\"\"  #mostly used for parahs...\n",
        "#print(c)\n",
        "d=\"\"\"CMR University aims to promote and undertake the advancement of university education across a plethora\n",
        "           of disciplines viz architecture, design, engineering, law, management,\n",
        "                      economics & commerce, social sciences & humanities,education, and science studies.\n",
        "    The University also aims to equip students with the required skills and knowledge\n",
        "                to pursue a successful career in their chosen field of study.                    \"\"\"\n",
        "\n",
        "'''note the (\"\"\"...\"\"\") triple quotes in the variable 'd' is like the <pre> tag in html,\n",
        " that prints the exact same format of the txt withen the <pre> tag'''\n",
        "print(a)\n",
        "print(b)\n",
        "print(c)\n",
        "print(d)\n"
      ],
      "metadata": {
        "colab": {
          "base_uri": "https://localhost:8080/"
        },
        "id": "-g3imcpFowQb",
        "outputId": "1f96ad54-3cc7-4560-b389-328bf5a6383a"
      },
      "execution_count": null,
      "outputs": [
        {
          "output_type": "stream",
          "name": "stdout",
          "text": [
            "deric is eating\n",
            "eric is eating\n",
            "hello\n",
            "CMR University aims to promote and undertake the advancement of university education across a plethora\n",
            "           of disciplines viz architecture, design, engineering, law, management, \n",
            "                      economics & commerce, social sciences & humanities,education, and science studies.\n",
            "    The University also aims to equip students with the required skills and knowledge \n",
            "                to pursue a successful career in their chosen field of study.                    \n"
          ]
        }
      ]
    },
    {
      "cell_type": "markdown",
      "source": [
        "VARIABLES............\n"
      ],
      "metadata": {
        "id": "II6QTXvxtY7j"
      }
    },
    {
      "cell_type": "code",
      "source": [
        "T=10\n",
        "TWO=2\n",
        "T\n",
        "TWO"
      ],
      "metadata": {
        "colab": {
          "base_uri": "https://localhost:8080/"
        },
        "id": "XU3k-V5BrtOH",
        "outputId": "10b6d9a2-c3b7-4a21-83b9-ba8dc8db57a5"
      },
      "execution_count": null,
      "outputs": [
        {
          "output_type": "execute_result",
          "data": {
            "text/plain": [
              "2"
            ]
          },
          "metadata": {},
          "execution_count": 107
        }
      ]
    },
    {
      "cell_type": "code",
      "source": [
        "T=10\n",
        "TWO=2\n",
        "print(TWO)\n",
        "T"
      ],
      "metadata": {
        "colab": {
          "base_uri": "https://localhost:8080/"
        },
        "id": "gf2b21l23IJu",
        "outputId": "c3a8df36-a372-4c32-9da9-346654652134"
      },
      "execution_count": null,
      "outputs": [
        {
          "output_type": "stream",
          "name": "stdout",
          "text": [
            "2\n"
          ]
        },
        {
          "output_type": "execute_result",
          "data": {
            "text/plain": [
              "10"
            ]
          },
          "metadata": {},
          "execution_count": 9
        }
      ]
    },
    {
      "cell_type": "code",
      "source": [
        "#dynamic typing......\n",
        "ten=10\n",
        "print(ten)\n",
        "ten=\"john\"\n",
        "print(ten)\n",
        "ten"
      ],
      "metadata": {
        "colab": {
          "base_uri": "https://localhost:8080/",
          "height": 70
        },
        "id": "1Gm-TiHB3Ih9",
        "outputId": "055616b3-23fe-47df-bf49-2bc5226fd3e8"
      },
      "execution_count": null,
      "outputs": [
        {
          "output_type": "stream",
          "name": "stdout",
          "text": [
            "10\n",
            "john\n"
          ]
        },
        {
          "output_type": "execute_result",
          "data": {
            "text/plain": [
              "'john'"
            ],
            "application/vnd.google.colaboratory.intrinsic+json": {
              "type": "string"
            }
          },
          "metadata": {},
          "execution_count": 10
        }
      ]
    },
    {
      "cell_type": "code",
      "source": [
        "#STRONG TYPING...\n",
        "'Day'+'1'\n",
        "\"hello\"+\"bro\"\n",
        "\"hello\"+\"  bro !!!!!\"\n",
        "print('Day'+'1')\n",
        "print(\"hello\"+\"bro\")\n",
        "print(\"hello\"+\"  bro !!!!!\")\n"
      ],
      "metadata": {
        "colab": {
          "base_uri": "https://localhost:8080/"
        },
        "id": "0ehelbQX3I88",
        "outputId": "9de0d208-b247-4bf2-f772-ff0e689aace2"
      },
      "execution_count": null,
      "outputs": [
        {
          "output_type": "stream",
          "name": "stdout",
          "text": [
            "Day1\n",
            "hellobro\n",
            "hello  bro !!!!!\n"
          ]
        }
      ]
    },
    {
      "cell_type": "code",
      "source": [
        "#SIMPLE EXPRESSIONS...\n",
        "#BOOLEAN EVALUATION...."
      ],
      "metadata": {
        "id": "b4Urgnfq3UGZ"
      },
      "execution_count": null,
      "outputs": []
    },
    {
      "cell_type": "code",
      "source": [
        "True and False"
      ],
      "metadata": {
        "colab": {
          "base_uri": "https://localhost:8080/"
        },
        "id": "PPyo5Ee-3ZzA",
        "outputId": "f8d0f3b6-7213-46f3-fa3c-14d756bbe414"
      },
      "execution_count": null,
      "outputs": [
        {
          "output_type": "execute_result",
          "data": {
            "text/plain": [
              "False"
            ]
          },
          "metadata": {},
          "execution_count": 13
        }
      ]
    },
    {
      "cell_type": "code",
      "source": [
        "True or False"
      ],
      "metadata": {
        "colab": {
          "base_uri": "https://localhost:8080/"
        },
        "id": "3GMbyyX13aEi",
        "outputId": "2297397b-45d7-41f6-f976-1d780ea04c3a"
      },
      "execution_count": null,
      "outputs": [
        {
          "output_type": "execute_result",
          "data": {
            "text/plain": [
              "True"
            ]
          },
          "metadata": {},
          "execution_count": 14
        }
      ]
    },
    {
      "cell_type": "code",
      "source": [
        "True is False"
      ],
      "metadata": {
        "colab": {
          "base_uri": "https://localhost:8080/"
        },
        "id": "MuPPiIBJ3aar",
        "outputId": "6a275587-5985-43e5-cc32-dcf5eb00f6e3"
      },
      "execution_count": null,
      "outputs": [
        {
          "output_type": "execute_result",
          "data": {
            "text/plain": [
              "False"
            ]
          },
          "metadata": {},
          "execution_count": 16
        }
      ]
    },
    {
      "cell_type": "code",
      "source": [
        "True is True"
      ],
      "metadata": {
        "colab": {
          "base_uri": "https://localhost:8080/"
        },
        "id": "xcXTG1Vz3a9N",
        "outputId": "e2428ab6-e437-4470-8707-a4c05a576ccf"
      },
      "execution_count": null,
      "outputs": [
        {
          "output_type": "execute_result",
          "data": {
            "text/plain": [
              "True"
            ]
          },
          "metadata": {},
          "execution_count": 17
        }
      ]
    },
    {
      "cell_type": "code",
      "source": [
        "False is False"
      ],
      "metadata": {
        "colab": {
          "base_uri": "https://localhost:8080/"
        },
        "id": "uXOjkFdl3qYC",
        "outputId": "3915c51d-6865-4b28-cc06-4f4be346f596"
      },
      "execution_count": null,
      "outputs": [
        {
          "output_type": "execute_result",
          "data": {
            "text/plain": [
              "True"
            ]
          },
          "metadata": {},
          "execution_count": 18
        }
      ]
    },
    {
      "cell_type": "code",
      "source": [
        "False is True"
      ],
      "metadata": {
        "colab": {
          "base_uri": "https://localhost:8080/"
        },
        "id": "ETE2z3qE3q8y",
        "outputId": "6a1c2780-b466-4efd-8fb9-92f12eec572a"
      },
      "execution_count": null,
      "outputs": [
        {
          "output_type": "execute_result",
          "data": {
            "text/plain": [
              "False"
            ]
          },
          "metadata": {},
          "execution_count": 19
        }
      ]
    },
    {
      "cell_type": "code",
      "source": [
        "not True"
      ],
      "metadata": {
        "colab": {
          "base_uri": "https://localhost:8080/"
        },
        "id": "ZAALsThN3vp1",
        "outputId": "350fc48c-d9b9-4124-d390-98a50aabcd55"
      },
      "execution_count": null,
      "outputs": [
        {
          "output_type": "execute_result",
          "data": {
            "text/plain": [
              "False"
            ]
          },
          "metadata": {},
          "execution_count": 20
        }
      ]
    },
    {
      "cell_type": "code",
      "source": [
        "not False"
      ],
      "metadata": {
        "colab": {
          "base_uri": "https://localhost:8080/"
        },
        "id": "ASxG6nN13yCH",
        "outputId": "4cff267a-b139-44cf-b7de-e845f92dca8e"
      },
      "execution_count": null,
      "outputs": [
        {
          "output_type": "execute_result",
          "data": {
            "text/plain": [
              "True"
            ]
          },
          "metadata": {},
          "execution_count": 21
        }
      ]
    },
    {
      "cell_type": "code",
      "source": [
        "'r' is 'r'"
      ],
      "metadata": {
        "colab": {
          "base_uri": "https://localhost:8080/"
        },
        "id": "pEij8o0o30YG",
        "outputId": "36d4f517-5e39-42b1-8714-fd7d8647fc79"
      },
      "execution_count": null,
      "outputs": [
        {
          "output_type": "stream",
          "name": "stderr",
          "text": [
            "<>:1: SyntaxWarning: \"is\" with a literal. Did you mean \"==\"?\n",
            "<>:1: SyntaxWarning: \"is\" with a literal. Did you mean \"==\"?\n",
            "<ipython-input-15-180bfc33a094>:1: SyntaxWarning: \"is\" with a literal. Did you mean \"==\"?\n",
            "  'r' is 'r'\n"
          ]
        },
        {
          "output_type": "execute_result",
          "data": {
            "text/plain": [
              "True"
            ]
          },
          "metadata": {},
          "execution_count": 15
        }
      ]
    },
    {
      "cell_type": "markdown",
      "source": [
        "\n",
        "DECISION MAKING STMTS...."
      ],
      "metadata": {
        "id": "a8iWHn4WlA4Z"
      }
    },
    {
      "cell_type": "code",
      "source": [
        "print(\"non-user defined number....\")\n",
        "i=3\n",
        "if i<3:\n",
        "  print('less than 3')\n",
        "elif i<5:\n",
        "  print('less than 5')\n",
        "else:\n",
        "  print('5 or more')"
      ],
      "metadata": {
        "colab": {
          "base_uri": "https://localhost:8080/"
        },
        "id": "G1quOtZ85DAs",
        "outputId": "154ca3e8-aa16-4481-a667-1abb0935cf10"
      },
      "execution_count": null,
      "outputs": [
        {
          "output_type": "stream",
          "name": "stdout",
          "text": [
            "non-user defined number....\n",
            "less than 5\n"
          ]
        }
      ]
    },
    {
      "cell_type": "code",
      "source": [
        "print(\"non-user defined number....\")\n",
        "i=5\n",
        "if i<3:\n",
        "  print('less than 3')\n",
        "elif i<5:\n",
        "  print('less than 5')\n",
        "else:\n",
        "  print('5 or more')"
      ],
      "metadata": {
        "colab": {
          "base_uri": "https://localhost:8080/"
        },
        "id": "0eaa71OW5Fsb",
        "outputId": "b189b980-f18e-4e48-d6fc-3ac252f1cf4d"
      },
      "execution_count": null,
      "outputs": [
        {
          "output_type": "stream",
          "name": "stdout",
          "text": [
            "non-user defined number....\n",
            "5 or more\n"
          ]
        }
      ]
    },
    {
      "cell_type": "code",
      "source": [
        "print(\"user defined number....\")\n",
        "i=int(input(\"enter a number:\"))\n",
        "if i<3:\n",
        "  print('less than 3')\n",
        "elif i<5:\n",
        "  print('less than 5')\n",
        "else:\n",
        "  print('5 or more')"
      ],
      "metadata": {
        "colab": {
          "base_uri": "https://localhost:8080/"
        },
        "id": "iJsNvpIa4js9",
        "outputId": "6602669b-69f0-42e0-d443-ce2d7375293b"
      },
      "execution_count": null,
      "outputs": [
        {
          "output_type": "stream",
          "name": "stdout",
          "text": [
            "enter a number:12\n",
            "5 or more\n"
          ]
        }
      ]
    },
    {
      "cell_type": "markdown",
      "source": [
        "LISTS...\n"
      ],
      "metadata": {
        "id": "GWCM9uKD5g_G"
      }
    },
    {
      "cell_type": "code",
      "source": [
        "L=[]\n",
        "L"
      ],
      "metadata": {
        "colab": {
          "base_uri": "https://localhost:8080/"
        },
        "id": "7G-9-qAo4uc8",
        "outputId": "4e3bcc29-1e66-4980-fc35-53501de53c44"
      },
      "execution_count": null,
      "outputs": [
        {
          "output_type": "execute_result",
          "data": {
            "text/plain": [
              "[]"
            ]
          },
          "metadata": {},
          "execution_count": 26
        }
      ]
    },
    {
      "cell_type": "code",
      "source": [
        "l=list()\n",
        "l"
      ],
      "metadata": {
        "colab": {
          "base_uri": "https://localhost:8080/"
        },
        "id": "XgA8KBuL5mn9",
        "outputId": "aee6decb-3588-4291-fc07-143ed1353dac"
      },
      "execution_count": null,
      "outputs": [
        {
          "output_type": "execute_result",
          "data": {
            "text/plain": [
              "[]"
            ]
          },
          "metadata": {},
          "execution_count": 27
        }
      ]
    },
    {
      "cell_type": "code",
      "source": [
        "l=[a,b,c]\n",
        "l"
      ],
      "metadata": {
        "colab": {
          "base_uri": "https://localhost:8080/"
        },
        "id": "6fXhIeZ05wyR",
        "outputId": "22cdafdc-42de-4d83-c8c4-6f1e8728902b"
      },
      "execution_count": null,
      "outputs": [
        {
          "output_type": "execute_result",
          "data": {
            "text/plain": [
              "['deric is eating', 'eric is eating', 'hello']"
            ]
          },
          "metadata": {},
          "execution_count": 29
        }
      ]
    },
    {
      "cell_type": "code",
      "source": [
        "l1=['g','k','j']\n",
        "l1"
      ],
      "metadata": {
        "colab": {
          "base_uri": "https://localhost:8080/"
        },
        "id": "lpjkCqih7HSJ",
        "outputId": "bcc51a7e-ae13-48b2-ea12-00b6dab6e056"
      },
      "execution_count": null,
      "outputs": [
        {
          "output_type": "execute_result",
          "data": {
            "text/plain": [
              "['g', 'k', 'j']"
            ]
          },
          "metadata": {},
          "execution_count": 34
        }
      ]
    },
    {
      "cell_type": "code",
      "source": [
        "l=['g',6]\n",
        "l"
      ],
      "metadata": {
        "colab": {
          "base_uri": "https://localhost:8080/"
        },
        "id": "5s317amn7UvN",
        "outputId": "91e84525-711a-49fc-bb9d-495134f9e06d"
      },
      "execution_count": null,
      "outputs": [
        {
          "output_type": "execute_result",
          "data": {
            "text/plain": [
              "['g', 6]"
            ]
          },
          "metadata": {},
          "execution_count": 32
        }
      ]
    },
    {
      "cell_type": "code",
      "source": [
        "l2=list(l)\n",
        "l2"
      ],
      "metadata": {
        "colab": {
          "base_uri": "https://localhost:8080/"
        },
        "id": "k3dYvK9m7cLT",
        "outputId": "28d9bffe-00fd-4c01-9f09-6be46146c347"
      },
      "execution_count": null,
      "outputs": [
        {
          "output_type": "execute_result",
          "data": {
            "text/plain": [
              "['g', 6]"
            ]
          },
          "metadata": {},
          "execution_count": 33
        }
      ]
    },
    {
      "cell_type": "markdown",
      "source": [
        "additional way of creating list....."
      ],
      "metadata": {
        "id": "pGUSSl-J71HJ"
      }
    },
    {
      "cell_type": "code",
      "source": [
        "list('abcdefghijk')"
      ],
      "metadata": {
        "colab": {
          "base_uri": "https://localhost:8080/"
        },
        "id": "NVLcUTDB7ixV",
        "outputId": "9d88bfe7-62b0-4871-f0e3-5015b4584b0c"
      },
      "execution_count": null,
      "outputs": [
        {
          "output_type": "execute_result",
          "data": {
            "text/plain": [
              "['a', 'b', 'c', 'd', 'e', 'f', 'g', 'h', 'i', 'j', 'k']"
            ]
          },
          "metadata": {},
          "execution_count": 35
        }
      ]
    },
    {
      "cell_type": "code",
      "source": [
        "l = ['1','c']\n",
        "l.append('1')\n",
        "l.append('b')\n",
        "print(l)\n",
        "l.insert(0,45)\n",
        "l"
      ],
      "metadata": {
        "colab": {
          "base_uri": "https://localhost:8080/"
        },
        "id": "ab5zd6DN70Hq",
        "outputId": "eb90eb21-b8bd-43d9-d874-ecc77f156a10"
      },
      "execution_count": null,
      "outputs": [
        {
          "output_type": "stream",
          "name": "stdout",
          "text": [
            "['1', 'c', '1', 'b']\n"
          ]
        },
        {
          "output_type": "execute_result",
          "data": {
            "text/plain": [
              "[45, '1', 'c', '1', 'b']"
            ]
          },
          "metadata": {},
          "execution_count": 1
        }
      ]
    },
    {
      "cell_type": "code",
      "source": [],
      "metadata": {
        "id": "zL5J-YED8tN3"
      },
      "execution_count": null,
      "outputs": []
    },
    {
      "cell_type": "markdown",
      "source": [
        "LOOPS:FOR & WHILE."
      ],
      "metadata": {
        "id": "wF01Ppd9inO-"
      }
    },
    {
      "cell_type": "markdown",
      "source": [
        "calling list elements using for loop..."
      ],
      "metadata": {
        "id": "3CPP73JaiUGN"
      }
    },
    {
      "cell_type": "code",
      "source": [
        "l=[1,2,3,4,5,6,7]\n",
        "for i in l:\n",
        "  print(i)"
      ],
      "metadata": {
        "id": "NvIYixOSBQF3",
        "colab": {
          "base_uri": "https://localhost:8080/"
        },
        "outputId": "4dc1f975-abfd-4d66-8674-865c8b51909f"
      },
      "execution_count": null,
      "outputs": [
        {
          "output_type": "stream",
          "name": "stdout",
          "text": [
            "1\n",
            "2\n",
            "3\n",
            "4\n",
            "5\n",
            "6\n",
            "7\n"
          ]
        }
      ]
    },
    {
      "cell_type": "code",
      "source": [
        "#for....loop....\n",
        "#for loop with simple if....\n",
        "n=[11,22,33,44,55,66,77]\n",
        "\n",
        "sum=0\n",
        "for i in n:\n",
        "  sum+=i\n",
        "print(\"sum=\",sum)"
      ],
      "metadata": {
        "colab": {
          "base_uri": "https://localhost:8080/"
        },
        "id": "vBlt7T--VtDh",
        "outputId": "74a980d3-a88a-4049-d9e6-03d2bf52a17b"
      },
      "execution_count": null,
      "outputs": [
        {
          "output_type": "stream",
          "name": "stdout",
          "text": [
            "sum= 308\n"
          ]
        }
      ]
    },
    {
      "cell_type": "code",
      "source": [
        "#for....loop....\n",
        "#for loop with else....\n",
        "d=[0,1,9,0,7,3,5]\n",
        "for i in d:\n",
        "    print(i)\n",
        "else:\n",
        "    print(\"no items left...\")"
      ],
      "metadata": {
        "colab": {
          "base_uri": "https://localhost:8080/"
        },
        "id": "AJMgpG2pXTOK",
        "outputId": "8322b71c-80db-417e-f628-7ce131aae3a2"
      },
      "execution_count": null,
      "outputs": [
        {
          "output_type": "stream",
          "name": "stdout",
          "text": [
            "0\n",
            "1\n",
            "9\n",
            "0\n",
            "7\n",
            "3\n",
            "5\n",
            "no items left...\n"
          ]
        }
      ]
    },
    {
      "cell_type": "code",
      "source": [
        "#for....loop....\n",
        "#for loop with else....\n",
        "d=[0,1,9,0,7,3,5]\n",
        "d=[]\n",
        "for i in d:\n",
        "  print(i)\n",
        "else:\n",
        "  print(\"no items left...\")"
      ],
      "metadata": {
        "colab": {
          "base_uri": "https://localhost:8080/"
        },
        "id": "fHIvExfaYQMK",
        "outputId": "d5d2b14e-d11a-4182-f457-9b7887f82ffe"
      },
      "execution_count": null,
      "outputs": [
        {
          "output_type": "stream",
          "name": "stdout",
          "text": [
            "no items left...\n"
          ]
        }
      ]
    },
    {
      "cell_type": "code",
      "source": [
        "n=int(input(\"enter n: \"))\n",
        "s=0\n",
        "i=1\n",
        "while i<=n:\n",
        "  s+=i\n",
        "  i+=i\n",
        "print(\"sum = \",s)"
      ],
      "metadata": {
        "colab": {
          "base_uri": "https://localhost:8080/"
        },
        "id": "XDUR10BCZGjs",
        "outputId": "87e55f3e-ff8f-4311-a884-be11466121a6"
      },
      "execution_count": null,
      "outputs": [
        {
          "output_type": "stream",
          "name": "stdout",
          "text": [
            "enter n: 2\n",
            "sum =  3\n"
          ]
        }
      ]
    },
    {
      "cell_type": "markdown",
      "source": [
        "RANGE FUNC()"
      ],
      "metadata": {
        "id": "7-tsspqwig15"
      }
    },
    {
      "cell_type": "code",
      "source": [
        "#range...\n",
        "print(range(10))"
      ],
      "metadata": {
        "colab": {
          "base_uri": "https://localhost:8080/"
        },
        "id": "CU9ZkvIxbBz-",
        "outputId": "112f9755-8d91-43c6-ff1f-3ecd4682511a"
      },
      "execution_count": null,
      "outputs": [
        {
          "output_type": "stream",
          "name": "stdout",
          "text": [
            "range(0, 10)\n"
          ]
        }
      ]
    },
    {
      "cell_type": "code",
      "source": [
        "print(list(range(10)))"
      ],
      "metadata": {
        "colab": {
          "base_uri": "https://localhost:8080/"
        },
        "id": "7t9OJpZ6Y-fC",
        "outputId": "ff9eec89-f530-4bf1-8303-2c560e85978f"
      },
      "execution_count": null,
      "outputs": [
        {
          "output_type": "stream",
          "name": "stdout",
          "text": [
            "[0, 1, 2, 3, 4, 5, 6, 7, 8, 9]\n"
          ]
        }
      ]
    },
    {
      "cell_type": "code",
      "source": [
        "print(list(range(2,8)))"
      ],
      "metadata": {
        "colab": {
          "base_uri": "https://localhost:8080/"
        },
        "id": "G8TMan_6Y-0_",
        "outputId": "3c7ed9f6-f873-4857-e4b4-8e9e08e72ff2"
      },
      "execution_count": null,
      "outputs": [
        {
          "output_type": "stream",
          "name": "stdout",
          "text": [
            "[2, 3, 4, 5, 6, 7]\n"
          ]
        }
      ]
    },
    {
      "cell_type": "code",
      "source": [
        "print(list(range(2,8,2)))"
      ],
      "metadata": {
        "colab": {
          "base_uri": "https://localhost:8080/"
        },
        "id": "rJn4TZdCY_Ff",
        "outputId": "3288b14c-a36e-4b4f-8bc2-16b518a43bf9"
      },
      "execution_count": null,
      "outputs": [
        {
          "output_type": "stream",
          "name": "stdout",
          "text": [
            "[2, 4, 6]\n"
          ]
        }
      ]
    },
    {
      "cell_type": "markdown",
      "source": [
        "NESTED FOR()"
      ],
      "metadata": {
        "id": "kkPIJC21ixpn"
      }
    },
    {
      "cell_type": "code",
      "source": [
        "g=['pop','rock','jam','cheese']\n",
        "h=['j','a','m']\n",
        "for i in range(len(g)):\n",
        "  print(\"I Like \",g[i])\n",
        "  for i in range(len(h)):\n",
        "    print(\"I Hate \",h[i])\n",
        "print('....done....')"
      ],
      "metadata": {
        "colab": {
          "base_uri": "https://localhost:8080/"
        },
        "id": "WSYEz1F_erPC",
        "outputId": "f66ff0b3-af61-491f-c813-5975ba7a74c0"
      },
      "execution_count": 4,
      "outputs": [
        {
          "output_type": "stream",
          "name": "stdout",
          "text": [
            "I Like  pop\n",
            "I Hate  j\n",
            "I Hate  a\n",
            "I Hate  m\n",
            "I Like  rock\n",
            "I Hate  j\n",
            "I Hate  a\n",
            "I Hate  m\n",
            "I Like  jam\n",
            "I Hate  j\n",
            "I Hate  a\n",
            "I Hate  m\n",
            "I Like  cheese\n",
            "I Hate  j\n",
            "I Hate  a\n",
            "I Hate  m\n",
            "....done....\n"
          ]
        }
      ]
    },
    {
      "cell_type": "markdown",
      "source": [
        "FOR(): WITH SIMPLE IF AND USING BREAK AND CONTINUE...\n",
        "\n",
        "> Add blockquote\n",
        "\n"
      ],
      "metadata": {
        "id": "RibB2hQMjqtb"
      }
    },
    {
      "cell_type": "code",
      "source": [
        "for v in \"HARSHITHA\":\n",
        "  if v== \"i\":\n",
        "    print(v)\n",
        "    break\n",
        "    print(\"invalid..\")\n",
        "print(\"...done...\")"
      ],
      "metadata": {
        "colab": {
          "base_uri": "https://localhost:8080/"
        },
        "id": "jsWvCmnHgzFZ",
        "outputId": "768a579c-e193-439c-b0e8-9a8e7d522c48"
      },
      "execution_count": null,
      "outputs": [
        {
          "output_type": "stream",
          "name": "stdout",
          "text": [
            "...done...\n"
          ]
        }
      ]
    },
    {
      "cell_type": "code",
      "source": [
        "for v in \"HARSHITHA\":\n",
        "  if v== \"I\":\n",
        "    print(v)\n",
        "    break\n",
        "    print(\"invalid..\")\n",
        "print(\"...done...\")"
      ],
      "metadata": {
        "colab": {
          "base_uri": "https://localhost:8080/"
        },
        "id": "KeAVmK27j4wo",
        "outputId": "0e321510-4a3f-4f24-8c81-80808847ffa2"
      },
      "execution_count": null,
      "outputs": [
        {
          "output_type": "stream",
          "name": "stdout",
          "text": [
            "I\n",
            "...done...\n"
          ]
        }
      ]
    },
    {
      "cell_type": "code",
      "source": [
        "for v in \"HARSHITHA\":\n",
        "  if v == \"I\":\n",
        "    continue\n",
        "  print(v)#removes I and prints rest...\n",
        "\n",
        "print(\"...done...\")"
      ],
      "metadata": {
        "colab": {
          "base_uri": "https://localhost:8080/"
        },
        "id": "lG_xUKF6kMYU",
        "outputId": "77da9611-2c95-4ab0-db13-5b13e9534b1a"
      },
      "execution_count": null,
      "outputs": [
        {
          "output_type": "stream",
          "name": "stdout",
          "text": [
            "H\n",
            "A\n",
            "R\n",
            "S\n",
            "H\n",
            "T\n",
            "H\n",
            "A\n",
            "...done...\n"
          ]
        }
      ]
    },
    {
      "cell_type": "markdown",
      "source": [
        "STRINGS....(i/p and o/p):"
      ],
      "metadata": {
        "id": "SPLz3TxAkAS0"
      }
    },
    {
      "cell_type": "code",
      "source": [
        "name=input(\"enter name: \")\n",
        "print(name)\n",
        "type(name)"
      ],
      "metadata": {
        "colab": {
          "base_uri": "https://localhost:8080/"
        },
        "id": "PgwzWk-xm57a",
        "outputId": "8d27bfe3-bb7c-47f8-a714-dce03dfd7ac9"
      },
      "execution_count": null,
      "outputs": [
        {
          "output_type": "stream",
          "name": "stdout",
          "text": [
            "enter name: eric\n",
            "eric\n"
          ]
        },
        {
          "output_type": "execute_result",
          "data": {
            "text/plain": [
              "str"
            ]
          },
          "metadata": {},
          "execution_count": 96
        }
      ]
    },
    {
      "cell_type": "code",
      "source": [
        "age=input(\"enter age: \")#used to take input from user...\n",
        "print(\"age=\",age)#print the output for user..\n",
        "\n",
        "type(age)"
      ],
      "metadata": {
        "colab": {
          "base_uri": "https://localhost:8080/"
        },
        "id": "6Ypq6RWynzSt",
        "outputId": "6f37fd3d-559d-43b0-c299-7f8e0074b1aa"
      },
      "execution_count": null,
      "outputs": [
        {
          "output_type": "stream",
          "name": "stdout",
          "text": [
            "enter age: 22\n",
            "age= 22\n"
          ]
        },
        {
          "output_type": "execute_result",
          "data": {
            "text/plain": [
              "str"
            ]
          },
          "metadata": {},
          "execution_count": 102
        }
      ]
    },
    {
      "cell_type": "code",
      "source": [
        "age=int(input(\"enter age: \"))\n",
        "print(\"age=\",age)\n",
        "print(age+1)\n",
        "type(age)"
      ],
      "metadata": {
        "colab": {
          "base_uri": "https://localhost:8080/"
        },
        "id": "cj4d949enf3J",
        "outputId": "868410ba-92ef-4258-cd97-9768045341b5"
      },
      "execution_count": null,
      "outputs": [
        {
          "output_type": "stream",
          "name": "stdout",
          "text": [
            "enter age: 22\n",
            "age= 22\n",
            "23\n"
          ]
        },
        {
          "output_type": "execute_result",
          "data": {
            "text/plain": [
              "int"
            ]
          },
          "metadata": {},
          "execution_count": 100
        }
      ]
    },
    {
      "cell_type": "code",
      "source": [
        "name=input(\"System:whats ur name? \")\n",
        "print(\"it was nice talking to u ..\",name,\"!!!!!!!!!!!!!!!!!\")\n",
        "age=int(input(\"whats ur  age: \"))\n",
        "print(\"hey u r already,..\",age,\"yrs old!,\",name)\n",
        "n=input(\"user: \")\n",
        "print(n)\n",
        "print(\"I am 3 years old...\",name)"
      ],
      "metadata": {
        "colab": {
          "base_uri": "https://localhost:8080/"
        },
        "id": "gNYQgQz6ob7V",
        "outputId": "1122644a-4fb2-40a8-b815-804aae6594f3"
      },
      "execution_count": 6,
      "outputs": [
        {
          "output_type": "stream",
          "name": "stdout",
          "text": [
            "System:whats ur name? ric\n",
            "it was nice talking to u .. ric !!!!!!!!!!!!!!!!!\n",
            "whats ur  age: 21\n",
            "hey u r already,.. 21 yrs old!, ric\n",
            "user: how old r u?\n",
            "how old r u?\n",
            "I am 3 years old... ric\n"
          ]
        }
      ]
    },
    {
      "cell_type": "markdown",
      "source": [
        "DAY 1___DONE>>>>>>>>>>>>>>>>>"
      ],
      "metadata": {
        "id": "O4w2q7dGqkgI"
      }
    },
    {
      "cell_type": "code",
      "source": [],
      "metadata": {
        "id": "eiSNl86Lp1yt"
      },
      "execution_count": null,
      "outputs": []
    }
  ]
}